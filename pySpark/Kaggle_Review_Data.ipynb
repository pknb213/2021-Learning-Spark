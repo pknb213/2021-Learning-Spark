{
 "cells": [
  {
   "cell_type": "code",
   "execution_count": 8,
   "outputs": [],
   "source": [
    "import json\n",
    "import sys\n",
    "from timeit import default_timer as timer\n",
    "from datetime import timedelta\n",
    "import pandas as pd"
   ],
   "metadata": {
    "collapsed": false,
    "pycharm": {
     "name": "#%%\n"
    }
   }
  },
  {
   "cell_type": "code",
   "execution_count": null,
   "outputs": [],
   "source": [
    "# data_file = open(\"yelp_academic_dataset_business.json\", encoding='utf-8')\n",
    "# data = []\n",
    "# for line in data_file:\n",
    "#     data.append(json.loads(line))\n",
    "# business_df = pd.DataFrame(data)\n",
    "# data_file.close()\n",
    "\n",
    "# with open(\"C:\\\\Users\\\\pknb2\\\\Desktop\\\\DataSet\\\\yelp_academic_dataset_business.json\", encoding='utf-8') as data:\n",
    "#     business_df = pd.read_json(data, lines=True)\n"
   ],
   "metadata": {
    "collapsed": false,
    "pycharm": {
     "name": "#%%\n"
    }
   }
  },
  {
   "cell_type": "code",
   "execution_count": 2,
   "metadata": {},
   "outputs": [
    {
     "name": "stdout",
     "output_type": "stream",
     "text": [
      "0:00:04.093602\n"
     ]
    }
   ],
   "source": [
    "st = timer()\n",
    "business_df = pd.read_json(\"C:\\\\Users\\\\pknb2\\\\Desktop\\\\DataSet\\\\yelp_academic_dataset_business.json\", lines=True)\n",
    "print(timedelta(seconds=timer()-st))"
   ]
  },
  {
   "cell_type": "code",
   "execution_count": 4,
   "metadata": {
    "collapsed": false
   },
   "outputs": [
    {
     "name": "stdout",
     "output_type": "stream",
     "text": [
      "              business_id                     name              address  \\\n",
      "0  6iYb2HFDywm3zjuRg0shjw      Oskar Blues Taproom         921 Pearl St   \n",
      "1  tCbdrRPZA0oiIYSmHG3J0w  Flying Elephants at PDX  7000 NE Airport Way   \n",
      "2  bvN78flM8NLprQ1a1y5dRg           The Reclaimory   4720 Hawthorne Ave   \n",
      "3  oaepsyvc0J17qwi8cfrOWg              Great Clips   2566 Enterprise Rd   \n",
      "4  PE9uqAjdw0E4-8mjGl3wVA        Crossfit Terminus  1046 Memorial Dr SE   \n",
      "\n",
      "          city state postal_code   latitude   longitude  stars  review_count  \\\n",
      "0      Boulder    CO       80302  40.017544 -105.283348    4.0            86   \n",
      "1     Portland    OR       97218  45.588906 -122.593331    4.0           126   \n",
      "2     Portland    OR       97214  45.511907 -122.613693    4.5            13   \n",
      "3  Orange City    FL       32763  28.914482  -81.295979    3.0             8   \n",
      "4      Atlanta    GA       30316  33.747027  -84.353424    4.0            14   \n",
      "\n",
      "   is_open                                         attributes  \\\n",
      "0        1  {'RestaurantsTableService': 'True', 'WiFi': 'u...   \n",
      "1        1  {'RestaurantsTakeOut': 'True', 'RestaurantsAtt...   \n",
      "2        1  {'BusinessAcceptsCreditCards': 'True', 'Restau...   \n",
      "3        1  {'RestaurantsPriceRange2': '1', 'BusinessAccep...   \n",
      "4        1  {'GoodForKids': 'False', 'BusinessParking': '{...   \n",
      "\n",
      "                                          categories  \\\n",
      "0  Gastropubs, Food, Beer Gardens, Restaurants, B...   \n",
      "1  Salad, Soup, Sandwiches, Delis, Restaurants, C...   \n",
      "2  Antiques, Fashion, Used, Vintage & Consignment...   \n",
      "3                         Beauty & Spas, Hair Salons   \n",
      "4  Gyms, Active Life, Interval Training Gyms, Fit...   \n",
      "\n",
      "                                               hours  \n",
      "0  {'Monday': '11:0-23:0', 'Tuesday': '11:0-23:0'...  \n",
      "1  {'Monday': '5:0-18:0', 'Tuesday': '5:0-17:0', ...  \n",
      "2  {'Thursday': '11:0-18:0', 'Friday': '11:0-18:0...  \n",
      "3                                               None  \n",
      "4  {'Monday': '16:0-19:0', 'Tuesday': '16:0-19:0'...  \n"
     ]
    }
   ],
   "source": [
    "print(business_df.head())"
   ]
  },
  {
   "cell_type": "code",
   "execution_count": 33,
   "metadata": {},
   "outputs": [
    {
     "name": "stdout",
     "output_type": "stream",
     "text": [
      "0:00:00.388808\n",
      "        id                           listing_url       scrape_id last_scraped  \\\n",
      "0   197677   https://www.airbnb.com/rooms/197677  20210225053400   2021-02-26   \n",
      "1   776070   https://www.airbnb.com/rooms/776070  20210225053400   2021-02-26   \n",
      "2   899003   https://www.airbnb.com/rooms/899003  20210225053400   2021-02-27   \n",
      "3  1016831  https://www.airbnb.com/rooms/1016831  20210225053400   2021-02-27   \n",
      "4  1033276  https://www.airbnb.com/rooms/1033276  20210225053400   2021-02-26   \n",
      "\n",
      "                                             name  \\\n",
      "0                       Oshiage Holiday Apartment   \n",
      "1                          Kero-kero house room 1   \n",
      "2               Classy room @Shinjuku, Takadanoba   \n",
      "3  WOMAN ONLY LICENSED ! Cosy & Cat behnd Shibuya   \n",
      "4                        private room @Senju area   \n",
      "\n",
      "                                         description  \\\n",
      "0  <b>The space</b><br />We are happy to welcome ...   \n",
      "1  We have been in airbnb since 2011 and it has g...   \n",
      "2  ..*+;.*:' Popular room in Airbnb@Tokyo *;+:..*...   \n",
      "3  female travellers here only.<br />Sorry no boy...   \n",
      "4  Our house is new and clean <br />Big hub stati...   \n",
      "\n",
      "                               neighborhood_overview  \\\n",
      "0                                                NaN   \n",
      "1  We love Nishinippori because is nearer to Toky...   \n",
      "2                                                NaN   \n",
      "3  The location is walkable distance to famous Sh...   \n",
      "4  There are shopping mall near Senjuohashi stati...   \n",
      "\n",
      "                                         picture_url  host_id  \\\n",
      "0  https://a0.muscache.com/pictures/38437056/d27f...   964081   \n",
      "1  https://a0.muscache.com/pictures/efd9f039-dbd2...   801494   \n",
      "2  https://a0.muscache.com/pictures/20005274/1df3...  4799233   \n",
      "3  https://a0.muscache.com/pictures/20134416/5c34...  5596383   \n",
      "4  https://a0.muscache.com/pictures/71577415/b060...  5686404   \n",
      "\n",
      "                                    host_url  ... review_scores_communication  \\\n",
      "0   https://www.airbnb.com/users/show/964081  ...                        10.0   \n",
      "1   https://www.airbnb.com/users/show/801494  ...                        10.0   \n",
      "2  https://www.airbnb.com/users/show/4799233  ...                         9.0   \n",
      "3  https://www.airbnb.com/users/show/5596383  ...                        10.0   \n",
      "4  https://www.airbnb.com/users/show/5686404  ...                        10.0   \n",
      "\n",
      "  review_scores_location review_scores_value  \\\n",
      "0                    9.0                10.0   \n",
      "1                   10.0                10.0   \n",
      "2                    9.0                 9.0   \n",
      "3                   10.0                10.0   \n",
      "4                    9.0                 9.0   \n",
      "\n",
      "                                             license instant_bookable  \\\n",
      "0                                         M130003350                f   \n",
      "1                                         M130000243                t   \n",
      "2  Other reasons | 【マンスリー契約】最低30泊以上の一時使用賃貸借契約を結びま...                f   \n",
      "3                                         M130001107                f   \n",
      "4                                         M130007760                f   \n",
      "\n",
      "  calculated_host_listings_count calculated_host_listings_count_entire_homes  \\\n",
      "0                              1                                           1   \n",
      "1                              1                                           0   \n",
      "2                              2                                           2   \n",
      "3                              1                                           0   \n",
      "4                              2                                           0   \n",
      "\n",
      "  calculated_host_listings_count_private_rooms  \\\n",
      "0                                            0   \n",
      "1                                            1   \n",
      "2                                            0   \n",
      "3                                            1   \n",
      "4                                            2   \n",
      "\n",
      "  calculated_host_listings_count_shared_rooms reviews_per_month  \n",
      "0                                           0              1.44  \n",
      "1                                           0              2.27  \n",
      "2                                           0              0.95  \n",
      "3                                           0              2.19  \n",
      "4                                           0              0.76  \n",
      "\n",
      "[5 rows x 74 columns]\n"
     ]
    }
   ],
   "source": [
    "st = timer()\n",
    "listings_df = pd.read_csv(\"C:\\\\Users\\\\pknb2\\\\Desktop\\\\DataSet\\\\listings.csv\")\n",
    "print(timedelta(seconds=timer()-st))\n",
    "print(listings_df.head())"
   ]
  },
  {
   "cell_type": "code",
   "execution_count": 26,
   "metadata": {},
   "outputs": [
    {
     "data": {
      "text/plain": "<Figure size 576x288 with 1 Axes>",
      "image/png": "[encoded data removed]"
     },
     "metadata": {
      "needs_background": "dark"
     },
     "output_type": "display_data"
    }
   ],
   "source": [
    "# Ratings Distribution\n",
    "x = listings_df['review_scores_location'].value_counts()\n",
    "x = x.sort_index()\n",
    "\n",
    "# Plot\n",
    "import matplotlib.pyplot as plt\n",
    "import seaborn as sns\n",
    "\n",
    "plt.figure(figsize=(8, 4))\n",
    "ax = sns.barplot(x=x.index, y=x.values, alpha=0.8)\n",
    "plt.title(\"Review Scores by Location\")\n",
    "plt.ylabel('# of Listings', fontsize=12)\n",
    "plt.xlabel(\"Review Ratings\", fontsize=12)\n",
    "ax.xaxis.label.set_color('White')\n",
    "ax.yaxis.label.set_color('White')\n",
    "ax.tick_params(colors='White', which='both')\n",
    "ax.title.set_color('White')\n",
    "\n",
    "# Adding the text labels\n",
    "rects = ax.patches\n",
    "labels = x.values\n",
    "for rect, label in zip(rects, labels):\n",
    "    height = rect.get_height()\n",
    "    ax.text(rect.get_x() + rect.get_width()/2, height + 5, label, ha='center', va='bottom')\n",
    "\n",
    "plt.show()"
   ]
  },
  {
   "cell_type": "code",
   "execution_count": 34,
   "outputs": [
    {
     "name": "stdout",
     "output_type": "stream",
     "text": [
      "        id                                            name  host_id  \\\n",
      "0   197677                       Oshiage Holiday Apartment   964081   \n",
      "1   776070                          Kero-kero house room 1   801494   \n",
      "2   899003               Classy room @Shinjuku, Takadanoba  4799233   \n",
      "3  1016831  WOMAN ONLY LICENSED ! Cosy & Cat behnd Shibuya  5596383   \n",
      "4  1033276                        private room @Senju area  5686404   \n",
      "\n",
      "         host_name  neighbourhood_group neighbourhood  latitude  longitude  \\\n",
      "0  Yoshimi & Marek                  NaN     Sumida Ku  35.71721  139.82596   \n",
      "1              Kei                  NaN       Kita Ku  35.73844  139.76917   \n",
      "2               Yu                  NaN   Shinjuku Ku  35.70865  139.69681   \n",
      "3           Wakana                  NaN   Setagaya Ku  35.65833  139.67153   \n",
      "4           Yukiko                  NaN     Adachi Ku  35.74253  139.79730   \n",
      "\n",
      "         room_type  price  minimum_nights  number_of_reviews last_review  \\\n",
      "0  Entire home/apt  11000               3                165  2020-03-04   \n",
      "1     Private room   7428               3                228  2020-01-18   \n",
      "2  Entire home/apt   5200              30                 93  2019-11-25   \n",
      "3     Private room  11000               1                211  2020-03-16   \n",
      "4     Private room  30000               1                 72  2018-06-17   \n",
      "\n",
      "   reviews_per_month  calculated_host_listings_count  availability_365  \n",
      "0               1.44                               1               328  \n",
      "1               2.27                               1               146  \n",
      "2               0.95                               2                 0  \n",
      "3               2.19                               1               139  \n",
      "4               0.76                               2               271  \n"
     ]
    }
   ],
   "source": [
    "summary_listings_df = pd.read_csv(\"C:\\\\Users\\\\pknb2\\\\Desktop\\\\DataSet\\\\listings_summary.csv\")\n",
    "print(summary_listings_df.head())"
   ],
   "metadata": {
    "collapsed": false,
    "pycharm": {
     "name": "#%%\n"
    }
   }
  },
  {
   "cell_type": "code",
   "execution_count": 35,
   "outputs": [
    {
     "name": "stdout",
     "output_type": "stream",
     "text": [
      "       latitude  longitude  price  number_of_reviews\n",
      "0      35.71721  139.82596  11000                165\n",
      "1      35.73844  139.76917   7428                228\n",
      "2      35.70865  139.69681   5200                 93\n",
      "3      35.65833  139.67153  11000                211\n",
      "4      35.74253  139.79730  30000                 72\n",
      "...         ...        ...    ...                ...\n",
      "11303  35.69420  139.69182   5000                  0\n",
      "11304  35.72089  139.79126  10309                  0\n",
      "11305  35.70376  139.70007  28000                  0\n",
      "11306  35.71585  139.79975  20000                  0\n",
      "11307  35.69769  139.70470   2271                  0\n",
      "\n",
      "[11308 rows x 4 columns]\n"
     ]
    },
    {
     "name": "stderr",
     "output_type": "stream",
     "text": [
      "c:\\users\\pknb2\\appdata\\local\\programs\\python\\python37\\lib\\site-packages\\ipykernel_launcher.py:3: SettingWithCopyWarning: \n",
      "A value is trying to be set on a copy of a slice from a DataFrame.\n",
      "Try using .loc[row_indexer,col_indexer] = value instead\n",
      "\n",
      "See the caveats in the documentation: https://pandas.pydata.org/pandas-docs/stable/user_guide/indexing.html#returning-a-view-versus-a-copy\n",
      "  This is separate from the ipykernel package so we can avoid doing imports until\n"
     ]
    }
   ],
   "source": [
    "rating_data = summary_listings_df[['latitude', 'longitude', 'price', 'number_of_reviews']]\n",
    "print(rating_data)\n",
    "rating_data['popularity'] = rating_data['price']*rating_data['number_of_reviews']"
   ],
   "metadata": {
    "collapsed": false,
    "pycharm": {
     "name": "#%%\n"
    }
   }
  },
  {
   "cell_type": "code",
   "execution_count": 37,
   "outputs": [
    {
     "name": "stderr",
     "output_type": "stream",
     "text": [
      "c:\\users\\pknb2\\appdata\\local\\programs\\python\\python37\\lib\\site-packages\\ipykernel_launcher.py:37: UserWarning: Matplotlib is currently using module://ipykernel.pylab.backend_inline, which is a non-GUI backend, so cannot show the figure.\n"
     ]
    },
    {
     "data": {
      "text/plain": "<Figure size 1080x504 with 2 Axes>",
      "image/png": "[encoded data removed]"
     },
     "metadata": {
      "needs_background": "dark"
     },
     "output_type": "display_data"
    }
   ],
   "source": [
    "f, (ax1, ax2) = plt.subplots(1, 2, figsize=(15,7))\n",
    "lat = 36.207430\n",
    "lon = -115.268460\n",
    "lon_min, lon_max = lon-0.3,lon+0.5\n",
    "lat_min, lat_max = lat-0.4,lat+0.5\n",
    "#subset for vegas\n",
    "ratings_data_vegas=rating_data[(rating_data[\"longitude\"]>lon_min) &\\\n",
    "                    (rating_data[\"longitude\"]<lon_max) &\\\n",
    "                    (rating_data[\"latitude\"]>lat_min) &\\\n",
    "                    (rating_data[\"latitude\"]<lat_max)]\n",
    "#Facet scatter plot\n",
    "ratings_data_vegas.plot(kind='scatter', x='longitude', y='latitude',\n",
    "                color='yellow',\n",
    "                s=.02, alpha=.6, subplots=True, ax=ax1)\n",
    "ax1.set_title(\"Las Vegas\")\n",
    "ax1.set_facecolor('black')\n",
    "ax1.xaxis.label.set_color('White')\n",
    "ax1.yaxis.label.set_color('White')\n",
    "ax1.tick_params(colors='White', which='both')\n",
    "ax1.title.set_color('White')\n",
    "\n",
    "#a random point inside pheonix\n",
    "lat = 33.435463\n",
    "lon = -112.006989\n",
    "#some adjustments to get the right pic\n",
    "lon_min, lon_max = lon-0.3,lon+0.5\n",
    "lat_min, lat_max = lat-0.4,lat+0.5\n",
    "#subset for pheonix\n",
    "ratings_data_pheonix=rating_data[(rating_data[\"longitude\"]>lon_min) &\\\n",
    "                    (rating_data[\"longitude\"]<lon_max) &\\\n",
    "                    (rating_data[\"latitude\"]>lat_min) &\\\n",
    "                    (rating_data[\"latitude\"]<lat_max)]\n",
    "#plot pheonix\n",
    "ratings_data_pheonix.plot(kind='scatter', x='longitude', y='latitude',\n",
    "                color='yellow',\n",
    "                s=.02, alpha=.6, subplots=True, ax=ax2)\n",
    "ax2.set_title(\"Pheonix\")\n",
    "ax2.set_facecolor('black')\n",
    "ax2.xaxis.label.set_color('White')\n",
    "ax2.yaxis.label.set_color('White')\n",
    "ax2.tick_params(colors='White', which='both')\n",
    "ax2.title.set_color('White')\n",
    "f.show()"
   ],
   "metadata": {
    "collapsed": false,
    "pycharm": {
     "name": "#%%\n"
    }
   }
  }
 ],
 "metadata": {
  "kernelspec": {
   "name": "python3",
   "language": "python",
   "display_name": "Python 3"
  },
  "language_info": {
   "codemirror_mode": {
    "name": "ipython",
    "version": 2
   },
   "file_extension": ".py",
   "mimetype": "text/x-python",
   "name": "python",
   "nbconvert_exporter": "python",
   "pygments_lexer": "ipython2",
   "version": "2.7.6"
  }
 },
 "nbformat": 4,
 "nbformat_minor": 0
}