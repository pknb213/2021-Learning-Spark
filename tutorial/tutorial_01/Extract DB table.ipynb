{
 "cells": [
  {
   "cell_type": "markdown",
   "metadata": {},
   "source": [
    "## Extracting from DB with SQL, Pandas\n",
    "\n",
    "**To install the library:**   \n",
    "`$ pip install -U pandasql`  "
   ]
  },
  {
   "cell_type": "code",
   "execution_count": 1,
   "metadata": {},
   "outputs": [
    {
     "ename": "NameError",
     "evalue": "name 'test' is not defined",
     "output_type": "error",
     "traceback": [
      "\u001b[0;31m---------------------------------------------------------------------------\u001b[0m",
      "\u001b[0;31mNameError\u001b[0m                                 Traceback (most recent call last)",
      "\u001b[0;32m<ipython-input-1-4e1243bd22c6>\u001b[0m in \u001b[0;36m<module>\u001b[0;34m\u001b[0m\n\u001b[0;32m----> 1\u001b[0;31m \u001b[0mtest\u001b[0m\u001b[0;34m\u001b[0m\u001b[0;34m\u001b[0m\u001b[0m\n\u001b[0m",
      "\u001b[0;31mNameError\u001b[0m: name 'test' is not defined"
     ]
    }
   ],
   "source": [
    "test"
   ]
  },
  {
   "cell_type": "code",
   "execution_count": 1,
   "metadata": {},
   "outputs": [],
   "source": [
    "import pandas as pd\n",
    "import numpy as np"
   ]
  },
  {
   "cell_type": "code",
   "execution_count": 2,
   "metadata": {},
   "outputs": [],
   "source": [
    "df = pd.read_csv(\"/Users/woowahan/Documents/Python/DS_Ext_School/tutorial_01/doc_use_log.csv\")\\\n",
    "       .sample(frac=0.01, replace=False)"
   ]
  },
  {
   "cell_type": "code",
   "execution_count": 3,
   "metadata": {},
   "outputs": [
    {
     "data": {
      "text/html": [
       "<div>\n",
       "<style scoped>\n",
       "    .dataframe tbody tr th:only-of-type {\n",
       "        vertical-align: middle;\n",
       "    }\n",
       "\n",
       "    .dataframe tbody tr th {\n",
       "        vertical-align: top;\n",
       "    }\n",
       "\n",
       "    .dataframe thead th {\n",
       "        text-align: right;\n",
       "    }\n",
       "</style>\n",
       "<table border=\"1\" class=\"dataframe\">\n",
       "  <thead>\n",
       "    <tr style=\"text-align: right;\">\n",
       "      <th></th>\n",
       "      <th>actiontype</th>\n",
       "      <th>ismydoc</th>\n",
       "      <th>ext</th>\n",
       "      <th>sessionid</th>\n",
       "      <th>documentposition</th>\n",
       "      <th>datetime</th>\n",
       "    </tr>\n",
       "  </thead>\n",
       "  <tbody>\n",
       "    <tr>\n",
       "      <th>182499</th>\n",
       "      <td>SAVEAS</td>\n",
       "      <td>False</td>\n",
       "      <td>PDF</td>\n",
       "      <td>316df629ed386a15ed38e43b068c1307</td>\n",
       "      <td>MYPOLARISDRIVE</td>\n",
       "      <td>2016.7.13</td>\n",
       "    </tr>\n",
       "    <tr>\n",
       "      <th>164444</th>\n",
       "      <td>CLOSE</td>\n",
       "      <td>False</td>\n",
       "      <td>XLS</td>\n",
       "      <td>bb20d603f5fe6aa772b714d1aaf9d569</td>\n",
       "      <td>OTHERAPP</td>\n",
       "      <td>2016.7.8</td>\n",
       "    </tr>\n",
       "    <tr>\n",
       "      <th>86459</th>\n",
       "      <td>OPEN</td>\n",
       "      <td>True</td>\n",
       "      <td>XLS</td>\n",
       "      <td>0c403ea1f3d55f4b78b9ebd9a3260a44</td>\n",
       "      <td>MYPOLARISDRIVE</td>\n",
       "      <td>2016.7.1</td>\n",
       "    </tr>\n",
       "    <tr>\n",
       "      <th>176710</th>\n",
       "      <td>CLOSE</td>\n",
       "      <td>False</td>\n",
       "      <td>PPT</td>\n",
       "      <td>9a91fef5d688b553b11d6949f380a596</td>\n",
       "      <td>OTHERAPP</td>\n",
       "      <td>2016.7.3</td>\n",
       "    </tr>\n",
       "    <tr>\n",
       "      <th>293665</th>\n",
       "      <td>CLOSE</td>\n",
       "      <td>False</td>\n",
       "      <td>PDF</td>\n",
       "      <td>80738dfb91b164c3a33267fb1b50120d</td>\n",
       "      <td>OTHERAPP</td>\n",
       "      <td>2016.7.21</td>\n",
       "    </tr>\n",
       "  </tbody>\n",
       "</table>\n",
       "</div>"
      ],
      "text/plain": [
       "       actiontype  ismydoc  ext                         sessionid  \\\n",
       "182499     SAVEAS    False  PDF  316df629ed386a15ed38e43b068c1307   \n",
       "164444      CLOSE    False  XLS  bb20d603f5fe6aa772b714d1aaf9d569   \n",
       "86459        OPEN     True  XLS  0c403ea1f3d55f4b78b9ebd9a3260a44   \n",
       "176710      CLOSE    False  PPT  9a91fef5d688b553b11d6949f380a596   \n",
       "293665      CLOSE    False  PDF  80738dfb91b164c3a33267fb1b50120d   \n",
       "\n",
       "       documentposition   datetime  \n",
       "182499   MYPOLARISDRIVE  2016.7.13  \n",
       "164444         OTHERAPP   2016.7.8  \n",
       "86459    MYPOLARISDRIVE   2016.7.1  \n",
       "176710         OTHERAPP   2016.7.3  \n",
       "293665         OTHERAPP  2016.7.21  "
      ]
     },
     "execution_count": 3,
     "metadata": {},
     "output_type": "execute_result"
    }
   ],
   "source": [
    "df.head()"
   ]
  },
  {
   "cell_type": "code",
   "execution_count": 4,
   "metadata": {},
   "outputs": [
    {
     "data": {
      "text/plain": [
       "pandas.core.frame.DataFrame"
      ]
     },
     "execution_count": 4,
     "metadata": {},
     "output_type": "execute_result"
    }
   ],
   "source": [
    "type(df)"
   ]
  },
  {
   "cell_type": "code",
   "execution_count": 5,
   "metadata": {},
   "outputs": [
    {
     "name": "stdout",
     "output_type": "stream",
     "text": [
      "<class 'pandas.core.frame.DataFrame'>\n",
      "Int64Index: 3019 entries, 182499 to 55376\n",
      "Data columns (total 6 columns):\n",
      "actiontype          3019 non-null object\n",
      "ismydoc             3019 non-null bool\n",
      "ext                 3019 non-null object\n",
      "sessionid           3019 non-null object\n",
      "documentposition    3019 non-null object\n",
      "datetime            3019 non-null object\n",
      "dtypes: bool(1), object(5)\n",
      "memory usage: 144.5+ KB\n"
     ]
    }
   ],
   "source": [
    "df.info()"
   ]
  },
  {
   "cell_type": "markdown",
   "metadata": {},
   "source": [
    "### About Pandasql\n",
    "Reference: http://blog.yhat.com/posts/pandasql-sql-for-pandas-dataframes.html    \n",
    "\n",
    "> locals() vs. globals()\n",
    "pandasql needs to have access to other variables in your session/environment. You can pass locals() to pandasql when executing a SQL statement, but if you're running a lot of queries that might be a pain. To avoid passing locals all the time, you can add this helper function to your script to set globals() like so:"
   ]
  },
  {
   "cell_type": "code",
   "execution_count": 6,
   "metadata": {},
   "outputs": [],
   "source": [
    "from pandasql import *"
   ]
  },
  {
   "cell_type": "code",
   "execution_count": 7,
   "metadata": {},
   "outputs": [],
   "source": [
    "q = \"\"\"\n",
    "    SELECT * \n",
    "      FROM df \n",
    "     WHERE ext = 'PDF'\n",
    "       AND ismydoc = '0'\n",
    "     LIMIT 10\n",
    "    \"\"\""
   ]
  },
  {
   "cell_type": "code",
   "execution_count": 8,
   "metadata": {},
   "outputs": [
    {
     "name": "stdout",
     "output_type": "stream",
     "text": [
      "  actiontype  ismydoc  ext                         sessionid documentposition   datetime\n",
      "0     SAVEAS        0  PDF  316df629ed386a15ed38e43b068c1307   MYPOLARISDRIVE  2016.7.13\n",
      "1      CLOSE        0  PDF  80738dfb91b164c3a33267fb1b50120d         OTHERAPP  2016.7.21\n",
      "2      CLOSE        0  PDF  1bace3075a04934096aa110d332c8fe6         OTHERAPP  2016.7.27\n",
      "3      CLOSE        0  PDF  c0800885a2201ee0300673e94a913121         OTHERAPP   2016.7.4\n",
      "4      CLOSE        0  PDF  b5c9d522bef9c8e5a28cc8f6580302d3         OTHERAPP  2016.7.24\n",
      "5      CLOSE        0  PDF  3baf27ea8290e7de73d7de4199690165         OTHERAPP  2016.7.28\n",
      "6       OPEN        0  PDF  6403c9a9808c7c817946b61b204bb469         OTHERAPP  2016.7.14\n",
      "7       OPEN        0  PDF  c0640249f6ecb200a7123fd44e914a19         OTHERAPP  2016.7.28\n",
      "8      CLOSE        0  PDF  cba6eabce936cc291d1cd39522dd54cb         OTHERAPP  2016.7.24\n",
      "9      CLOSE        0  PDF  13711047a8b6959d2d25d35afd6f4971         OTHERAPP  2016.7.17\n"
     ]
    }
   ],
   "source": [
    "print sqldf(q, locals()).to_string()"
   ]
  },
  {
   "cell_type": "code",
   "execution_count": 9,
   "metadata": {},
   "outputs": [
    {
     "data": {
      "text/html": [
       "<div>\n",
       "<style scoped>\n",
       "    .dataframe tbody tr th:only-of-type {\n",
       "        vertical-align: middle;\n",
       "    }\n",
       "\n",
       "    .dataframe tbody tr th {\n",
       "        vertical-align: top;\n",
       "    }\n",
       "\n",
       "    .dataframe thead th {\n",
       "        text-align: right;\n",
       "    }\n",
       "</style>\n",
       "<table border=\"1\" class=\"dataframe\">\n",
       "  <thead>\n",
       "    <tr style=\"text-align: right;\">\n",
       "      <th></th>\n",
       "      <th>actiontype</th>\n",
       "      <th>ismydoc</th>\n",
       "      <th>ext</th>\n",
       "      <th>sessionid</th>\n",
       "      <th>documentposition</th>\n",
       "      <th>datetime</th>\n",
       "    </tr>\n",
       "  </thead>\n",
       "  <tbody>\n",
       "    <tr>\n",
       "      <th>182499</th>\n",
       "      <td>SAVEAS</td>\n",
       "      <td>False</td>\n",
       "      <td>PDF</td>\n",
       "      <td>316df629ed386a15ed38e43b068c1307</td>\n",
       "      <td>MYPOLARISDRIVE</td>\n",
       "      <td>2016.7.13</td>\n",
       "    </tr>\n",
       "    <tr>\n",
       "      <th>293665</th>\n",
       "      <td>CLOSE</td>\n",
       "      <td>False</td>\n",
       "      <td>PDF</td>\n",
       "      <td>80738dfb91b164c3a33267fb1b50120d</td>\n",
       "      <td>OTHERAPP</td>\n",
       "      <td>2016.7.21</td>\n",
       "    </tr>\n",
       "    <tr>\n",
       "      <th>201595</th>\n",
       "      <td>CLOSE</td>\n",
       "      <td>False</td>\n",
       "      <td>PDF</td>\n",
       "      <td>1bace3075a04934096aa110d332c8fe6</td>\n",
       "      <td>OTHERAPP</td>\n",
       "      <td>2016.7.27</td>\n",
       "    </tr>\n",
       "    <tr>\n",
       "      <th>79003</th>\n",
       "      <td>CLOSE</td>\n",
       "      <td>False</td>\n",
       "      <td>PDF</td>\n",
       "      <td>c0800885a2201ee0300673e94a913121</td>\n",
       "      <td>OTHERAPP</td>\n",
       "      <td>2016.7.4</td>\n",
       "    </tr>\n",
       "    <tr>\n",
       "      <th>252284</th>\n",
       "      <td>CLOSE</td>\n",
       "      <td>False</td>\n",
       "      <td>PDF</td>\n",
       "      <td>b5c9d522bef9c8e5a28cc8f6580302d3</td>\n",
       "      <td>OTHERAPP</td>\n",
       "      <td>2016.7.24</td>\n",
       "    </tr>\n",
       "    <tr>\n",
       "      <th>33347</th>\n",
       "      <td>CLOSE</td>\n",
       "      <td>False</td>\n",
       "      <td>PDF</td>\n",
       "      <td>3baf27ea8290e7de73d7de4199690165</td>\n",
       "      <td>OTHERAPP</td>\n",
       "      <td>2016.7.28</td>\n",
       "    </tr>\n",
       "    <tr>\n",
       "      <th>119773</th>\n",
       "      <td>OPEN</td>\n",
       "      <td>False</td>\n",
       "      <td>PDF</td>\n",
       "      <td>6403c9a9808c7c817946b61b204bb469</td>\n",
       "      <td>OTHERAPP</td>\n",
       "      <td>2016.7.14</td>\n",
       "    </tr>\n",
       "    <tr>\n",
       "      <th>61612</th>\n",
       "      <td>OPEN</td>\n",
       "      <td>False</td>\n",
       "      <td>PDF</td>\n",
       "      <td>c0640249f6ecb200a7123fd44e914a19</td>\n",
       "      <td>OTHERAPP</td>\n",
       "      <td>2016.7.28</td>\n",
       "    </tr>\n",
       "    <tr>\n",
       "      <th>124006</th>\n",
       "      <td>CLOSE</td>\n",
       "      <td>False</td>\n",
       "      <td>PDF</td>\n",
       "      <td>cba6eabce936cc291d1cd39522dd54cb</td>\n",
       "      <td>OTHERAPP</td>\n",
       "      <td>2016.7.24</td>\n",
       "    </tr>\n",
       "    <tr>\n",
       "      <th>153204</th>\n",
       "      <td>CLOSE</td>\n",
       "      <td>False</td>\n",
       "      <td>PDF</td>\n",
       "      <td>13711047a8b6959d2d25d35afd6f4971</td>\n",
       "      <td>OTHERAPP</td>\n",
       "      <td>2016.7.17</td>\n",
       "    </tr>\n",
       "  </tbody>\n",
       "</table>\n",
       "</div>"
      ],
      "text/plain": [
       "       actiontype  ismydoc  ext                         sessionid  \\\n",
       "182499     SAVEAS    False  PDF  316df629ed386a15ed38e43b068c1307   \n",
       "293665      CLOSE    False  PDF  80738dfb91b164c3a33267fb1b50120d   \n",
       "201595      CLOSE    False  PDF  1bace3075a04934096aa110d332c8fe6   \n",
       "79003       CLOSE    False  PDF  c0800885a2201ee0300673e94a913121   \n",
       "252284      CLOSE    False  PDF  b5c9d522bef9c8e5a28cc8f6580302d3   \n",
       "33347       CLOSE    False  PDF  3baf27ea8290e7de73d7de4199690165   \n",
       "119773       OPEN    False  PDF  6403c9a9808c7c817946b61b204bb469   \n",
       "61612        OPEN    False  PDF  c0640249f6ecb200a7123fd44e914a19   \n",
       "124006      CLOSE    False  PDF  cba6eabce936cc291d1cd39522dd54cb   \n",
       "153204      CLOSE    False  PDF  13711047a8b6959d2d25d35afd6f4971   \n",
       "\n",
       "       documentposition   datetime  \n",
       "182499   MYPOLARISDRIVE  2016.7.13  \n",
       "293665         OTHERAPP  2016.7.21  \n",
       "201595         OTHERAPP  2016.7.27  \n",
       "79003          OTHERAPP   2016.7.4  \n",
       "252284         OTHERAPP  2016.7.24  \n",
       "33347          OTHERAPP  2016.7.28  \n",
       "119773         OTHERAPP  2016.7.14  \n",
       "61612          OTHERAPP  2016.7.28  \n",
       "124006         OTHERAPP  2016.7.24  \n",
       "153204         OTHERAPP  2016.7.17  "
      ]
     },
     "execution_count": 9,
     "metadata": {},
     "output_type": "execute_result"
    }
   ],
   "source": [
    "# pandas\n",
    "df[(df['ext'] == 'PDF') & (df['ismydoc'] == 0)].head(10)"
   ]
  },
  {
   "cell_type": "code",
   "execution_count": 10,
   "metadata": {},
   "outputs": [],
   "source": [
    "# aggregation\n",
    "q = \"\"\"\n",
    "    SELECT ext,\n",
    "           count(ext) as count,\n",
    "           count(distinct sessionid) as unq_sess\n",
    "      FROM df\n",
    "     GROUP BY ext\n",
    "     ORDER BY count DESC\n",
    "     \"\"\""
   ]
  },
  {
   "cell_type": "code",
   "execution_count": 11,
   "metadata": {},
   "outputs": [
    {
     "name": "stdout",
     "output_type": "stream",
     "text": [
      "     ext  count  unq_sess\n",
      "0    PDF    819       816\n",
      "1   DOCX    553       547\n",
      "2   XLSX    512       506\n",
      "3    HWP    266       263\n",
      "4    XLS    255       254\n",
      "5    DOC    229       228\n",
      "6   PPTX    177       175\n",
      "7    TXT    103       102\n",
      "8    PPT     58        58\n",
      "9   PPSX     34        34\n",
      "10   ODT      9         9\n",
      "11   PPS      4         4\n"
     ]
    }
   ],
   "source": [
    "print sqldf(q, locals()).to_string()"
   ]
  },
  {
   "cell_type": "code",
   "execution_count": 12,
   "metadata": {},
   "outputs": [
    {
     "data": {
      "text/html": [
       "<div>\n",
       "<style scoped>\n",
       "    .dataframe tbody tr th:only-of-type {\n",
       "        vertical-align: middle;\n",
       "    }\n",
       "\n",
       "    .dataframe tbody tr th {\n",
       "        vertical-align: top;\n",
       "    }\n",
       "\n",
       "    .dataframe thead th {\n",
       "        text-align: right;\n",
       "    }\n",
       "</style>\n",
       "<table border=\"1\" class=\"dataframe\">\n",
       "  <thead>\n",
       "    <tr style=\"text-align: right;\">\n",
       "      <th></th>\n",
       "      <th>ext</th>\n",
       "      <th>ext_cnt</th>\n",
       "      <th>session_cnt</th>\n",
       "    </tr>\n",
       "  </thead>\n",
       "  <tbody>\n",
       "    <tr>\n",
       "      <th>0</th>\n",
       "      <td>PDF</td>\n",
       "      <td>819</td>\n",
       "      <td>816</td>\n",
       "    </tr>\n",
       "    <tr>\n",
       "      <th>1</th>\n",
       "      <td>DOCX</td>\n",
       "      <td>553</td>\n",
       "      <td>547</td>\n",
       "    </tr>\n",
       "    <tr>\n",
       "      <th>2</th>\n",
       "      <td>XLSX</td>\n",
       "      <td>512</td>\n",
       "      <td>506</td>\n",
       "    </tr>\n",
       "    <tr>\n",
       "      <th>3</th>\n",
       "      <td>HWP</td>\n",
       "      <td>266</td>\n",
       "      <td>263</td>\n",
       "    </tr>\n",
       "    <tr>\n",
       "      <th>4</th>\n",
       "      <td>XLS</td>\n",
       "      <td>255</td>\n",
       "      <td>254</td>\n",
       "    </tr>\n",
       "    <tr>\n",
       "      <th>5</th>\n",
       "      <td>DOC</td>\n",
       "      <td>229</td>\n",
       "      <td>228</td>\n",
       "    </tr>\n",
       "    <tr>\n",
       "      <th>6</th>\n",
       "      <td>PPTX</td>\n",
       "      <td>177</td>\n",
       "      <td>175</td>\n",
       "    </tr>\n",
       "    <tr>\n",
       "      <th>7</th>\n",
       "      <td>TXT</td>\n",
       "      <td>103</td>\n",
       "      <td>102</td>\n",
       "    </tr>\n",
       "    <tr>\n",
       "      <th>8</th>\n",
       "      <td>PPT</td>\n",
       "      <td>58</td>\n",
       "      <td>58</td>\n",
       "    </tr>\n",
       "    <tr>\n",
       "      <th>9</th>\n",
       "      <td>PPSX</td>\n",
       "      <td>34</td>\n",
       "      <td>34</td>\n",
       "    </tr>\n",
       "    <tr>\n",
       "      <th>10</th>\n",
       "      <td>ODT</td>\n",
       "      <td>9</td>\n",
       "      <td>9</td>\n",
       "    </tr>\n",
       "    <tr>\n",
       "      <th>11</th>\n",
       "      <td>PPS</td>\n",
       "      <td>4</td>\n",
       "      <td>4</td>\n",
       "    </tr>\n",
       "  </tbody>\n",
       "</table>\n",
       "</div>"
      ],
      "text/plain": [
       "     ext  ext_cnt  session_cnt\n",
       "0    PDF      819          816\n",
       "1   DOCX      553          547\n",
       "2   XLSX      512          506\n",
       "3    HWP      266          263\n",
       "4    XLS      255          254\n",
       "5    DOC      229          228\n",
       "6   PPTX      177          175\n",
       "7    TXT      103          102\n",
       "8    PPT       58           58\n",
       "9   PPSX       34           34\n",
       "10   ODT        9            9\n",
       "11   PPS        4            4"
      ]
     },
     "execution_count": 12,
     "metadata": {},
     "output_type": "execute_result"
    }
   ],
   "source": [
    "# pandas\n",
    "df.groupby(\"ext\").agg({\"ext\": \"count\", \"sessionid\": \"nunique\"})\\\n",
    "  .rename(columns={\"ext\": \"ext_cnt\", \"sessionid\": \"session_cnt\"}).sort_values(\"ext_cnt\", ascending=False).reset_index()"
   ]
  },
  {
   "cell_type": "code",
   "execution_count": 13,
   "metadata": {},
   "outputs": [
    {
     "data": {
      "text/html": [
       "<div>\n",
       "<style scoped>\n",
       "    .dataframe tbody tr th:only-of-type {\n",
       "        vertical-align: middle;\n",
       "    }\n",
       "\n",
       "    .dataframe tbody tr th {\n",
       "        vertical-align: top;\n",
       "    }\n",
       "\n",
       "    .dataframe thead th {\n",
       "        text-align: right;\n",
       "    }\n",
       "</style>\n",
       "<table border=\"1\" class=\"dataframe\">\n",
       "  <thead>\n",
       "    <tr style=\"text-align: right;\">\n",
       "      <th></th>\n",
       "      <th>idx</th>\n",
       "      <th>sessionid</th>\n",
       "      <th>flag</th>\n",
       "    </tr>\n",
       "  </thead>\n",
       "  <tbody>\n",
       "    <tr>\n",
       "      <th>0</th>\n",
       "      <td>1331</td>\n",
       "      <td>b8a35b63d65e36fcbcf7284db362fa06</td>\n",
       "      <td>iOS</td>\n",
       "    </tr>\n",
       "    <tr>\n",
       "      <th>1</th>\n",
       "      <td>1335</td>\n",
       "      <td>ab9ea758f63a61463efa059c7183b976</td>\n",
       "      <td>iOS</td>\n",
       "    </tr>\n",
       "    <tr>\n",
       "      <th>2</th>\n",
       "      <td>1383</td>\n",
       "      <td>401e95152f65bcd9573bb1707967e82a</td>\n",
       "      <td>iOS</td>\n",
       "    </tr>\n",
       "    <tr>\n",
       "      <th>3</th>\n",
       "      <td>1385</td>\n",
       "      <td>7891c7016850ccca28b54b3f8f0c554e</td>\n",
       "      <td>iOS</td>\n",
       "    </tr>\n",
       "    <tr>\n",
       "      <th>4</th>\n",
       "      <td>1387</td>\n",
       "      <td>dd16321402b19a3f20261e6905e4e9bf</td>\n",
       "      <td>iOS</td>\n",
       "    </tr>\n",
       "  </tbody>\n",
       "</table>\n",
       "</div>"
      ],
      "text/plain": [
       "    idx                         sessionid flag\n",
       "0  1331  b8a35b63d65e36fcbcf7284db362fa06  iOS\n",
       "1  1335  ab9ea758f63a61463efa059c7183b976  iOS\n",
       "2  1383  401e95152f65bcd9573bb1707967e82a  iOS\n",
       "3  1385  7891c7016850ccca28b54b3f8f0c554e  iOS\n",
       "4  1387  dd16321402b19a3f20261e6905e4e9bf  iOS"
      ]
     },
     "execution_count": 13,
     "metadata": {},
     "output_type": "execute_result"
    }
   ],
   "source": [
    "# Join\n",
    "ios = pd.read_csv(\"/Users/woowahan/Documents/Python/DS_Ext_School/tutorial_01/ios.csv\")\n",
    "\n",
    "ios.head()"
   ]
  },
  {
   "cell_type": "code",
   "execution_count": 14,
   "metadata": {},
   "outputs": [
    {
     "name": "stdout",
     "output_type": "stream",
     "text": [
      "<class 'pandas.core.frame.DataFrame'>\n",
      "RangeIndex: 100 entries, 0 to 99\n",
      "Data columns (total 3 columns):\n",
      "idx          100 non-null int64\n",
      "sessionid    100 non-null object\n",
      "flag         100 non-null object\n",
      "dtypes: int64(1), object(2)\n",
      "memory usage: 2.4+ KB\n"
     ]
    }
   ],
   "source": [
    "ios.info()"
   ]
  },
  {
   "cell_type": "code",
   "execution_count": 15,
   "metadata": {},
   "outputs": [
    {
     "data": {
      "text/plain": [
       "100"
      ]
     },
     "execution_count": 15,
     "metadata": {},
     "output_type": "execute_result"
    }
   ],
   "source": [
    "len(ios.sessionid)"
   ]
  },
  {
   "cell_type": "code",
   "execution_count": 16,
   "metadata": {},
   "outputs": [
    {
     "data": {
      "text/plain": [
       "100"
      ]
     },
     "execution_count": 16,
     "metadata": {},
     "output_type": "execute_result"
    }
   ],
   "source": [
    "len(ios.sessionid.unique())"
   ]
  },
  {
   "cell_type": "code",
   "execution_count": 17,
   "metadata": {},
   "outputs": [
    {
     "data": {
      "text/html": [
       "<div>\n",
       "<style scoped>\n",
       "    .dataframe tbody tr th:only-of-type {\n",
       "        vertical-align: middle;\n",
       "    }\n",
       "\n",
       "    .dataframe tbody tr th {\n",
       "        vertical-align: top;\n",
       "    }\n",
       "\n",
       "    .dataframe thead th {\n",
       "        text-align: right;\n",
       "    }\n",
       "</style>\n",
       "<table border=\"1\" class=\"dataframe\">\n",
       "  <thead>\n",
       "    <tr style=\"text-align: right;\">\n",
       "      <th></th>\n",
       "      <th>actiontype</th>\n",
       "      <th>ismydoc</th>\n",
       "      <th>ext</th>\n",
       "      <th>sessionid</th>\n",
       "      <th>documentposition</th>\n",
       "      <th>datetime</th>\n",
       "    </tr>\n",
       "  </thead>\n",
       "  <tbody>\n",
       "    <tr>\n",
       "      <th>182499</th>\n",
       "      <td>SAVEAS</td>\n",
       "      <td>False</td>\n",
       "      <td>PDF</td>\n",
       "      <td>316df629ed386a15ed38e43b068c1307</td>\n",
       "      <td>MYPOLARISDRIVE</td>\n",
       "      <td>2016.7.13</td>\n",
       "    </tr>\n",
       "    <tr>\n",
       "      <th>164444</th>\n",
       "      <td>CLOSE</td>\n",
       "      <td>False</td>\n",
       "      <td>XLS</td>\n",
       "      <td>bb20d603f5fe6aa772b714d1aaf9d569</td>\n",
       "      <td>OTHERAPP</td>\n",
       "      <td>2016.7.8</td>\n",
       "    </tr>\n",
       "    <tr>\n",
       "      <th>86459</th>\n",
       "      <td>OPEN</td>\n",
       "      <td>True</td>\n",
       "      <td>XLS</td>\n",
       "      <td>0c403ea1f3d55f4b78b9ebd9a3260a44</td>\n",
       "      <td>MYPOLARISDRIVE</td>\n",
       "      <td>2016.7.1</td>\n",
       "    </tr>\n",
       "    <tr>\n",
       "      <th>176710</th>\n",
       "      <td>CLOSE</td>\n",
       "      <td>False</td>\n",
       "      <td>PPT</td>\n",
       "      <td>9a91fef5d688b553b11d6949f380a596</td>\n",
       "      <td>OTHERAPP</td>\n",
       "      <td>2016.7.3</td>\n",
       "    </tr>\n",
       "    <tr>\n",
       "      <th>293665</th>\n",
       "      <td>CLOSE</td>\n",
       "      <td>False</td>\n",
       "      <td>PDF</td>\n",
       "      <td>80738dfb91b164c3a33267fb1b50120d</td>\n",
       "      <td>OTHERAPP</td>\n",
       "      <td>2016.7.21</td>\n",
       "    </tr>\n",
       "  </tbody>\n",
       "</table>\n",
       "</div>"
      ],
      "text/plain": [
       "       actiontype  ismydoc  ext                         sessionid  \\\n",
       "182499     SAVEAS    False  PDF  316df629ed386a15ed38e43b068c1307   \n",
       "164444      CLOSE    False  XLS  bb20d603f5fe6aa772b714d1aaf9d569   \n",
       "86459        OPEN     True  XLS  0c403ea1f3d55f4b78b9ebd9a3260a44   \n",
       "176710      CLOSE    False  PPT  9a91fef5d688b553b11d6949f380a596   \n",
       "293665      CLOSE    False  PDF  80738dfb91b164c3a33267fb1b50120d   \n",
       "\n",
       "       documentposition   datetime  \n",
       "182499   MYPOLARISDRIVE  2016.7.13  \n",
       "164444         OTHERAPP   2016.7.8  \n",
       "86459    MYPOLARISDRIVE   2016.7.1  \n",
       "176710         OTHERAPP   2016.7.3  \n",
       "293665         OTHERAPP  2016.7.21  "
      ]
     },
     "execution_count": 17,
     "metadata": {},
     "output_type": "execute_result"
    }
   ],
   "source": [
    "df.head()"
   ]
  },
  {
   "cell_type": "code",
   "execution_count": 18,
   "metadata": {},
   "outputs": [],
   "source": [
    "## select only ios log data\n",
    "# duplicate check of ios table\n",
    "q = \"\"\"SELECT\n",
    "            count(sessionid) as session_all_cnt,\n",
    "            count(distinct sessionid) as session_uniq_cnt\n",
    "        FROM ios\n",
    "     \"\"\""
   ]
  },
  {
   "cell_type": "code",
   "execution_count": 19,
   "metadata": {},
   "outputs": [
    {
     "name": "stdout",
     "output_type": "stream",
     "text": [
      "   session_all_cnt  session_uniq_cnt\n",
      "0              100               100\n"
     ]
    }
   ],
   "source": [
    "print sqldf(q, locals())"
   ]
  },
  {
   "cell_type": "code",
   "execution_count": 20,
   "metadata": {},
   "outputs": [],
   "source": [
    "## join and select ios via flag col\n",
    "q = \"\"\"SELECT\n",
    "            A.*, \n",
    "            B.flag\n",
    "        FROM df A\n",
    "            LEFT JOIN \n",
    "            (\n",
    "            SELECT sessionid, flag\n",
    "            FROM ios\n",
    "            ) B\n",
    "            ON A.sessionid = B.sessionid\n",
    "        WHERE B.flag = 'iOS'    \n",
    "     \"\"\""
   ]
  },
  {
   "cell_type": "code",
   "execution_count": 21,
   "metadata": {},
   "outputs": [
    {
     "name": "stdout",
     "output_type": "stream",
     "text": [
      "  actiontype  ismydoc   ext                         sessionid documentposition   datetime flag\n",
      "0      CLOSE        0  XLSX  09aa9ed23214b104a85837a339a226ca         OTHERAPP  2016.7.13  iOS\n"
     ]
    }
   ],
   "source": [
    "print sqldf(q, locals()).to_string()"
   ]
  },
  {
   "cell_type": "code",
   "execution_count": 22,
   "metadata": {
    "scrolled": false
   },
   "outputs": [
    {
     "data": {
      "text/html": [
       "<div>\n",
       "<style scoped>\n",
       "    .dataframe tbody tr th:only-of-type {\n",
       "        vertical-align: middle;\n",
       "    }\n",
       "\n",
       "    .dataframe tbody tr th {\n",
       "        vertical-align: top;\n",
       "    }\n",
       "\n",
       "    .dataframe thead th {\n",
       "        text-align: right;\n",
       "    }\n",
       "</style>\n",
       "<table border=\"1\" class=\"dataframe\">\n",
       "  <thead>\n",
       "    <tr style=\"text-align: right;\">\n",
       "      <th></th>\n",
       "      <th>actiontype</th>\n",
       "      <th>ismydoc</th>\n",
       "      <th>ext</th>\n",
       "      <th>sessionid</th>\n",
       "      <th>documentposition</th>\n",
       "      <th>datetime</th>\n",
       "      <th>flag</th>\n",
       "    </tr>\n",
       "  </thead>\n",
       "  <tbody>\n",
       "    <tr>\n",
       "      <th>2450</th>\n",
       "      <td>CLOSE</td>\n",
       "      <td>False</td>\n",
       "      <td>XLSX</td>\n",
       "      <td>09aa9ed23214b104a85837a339a226ca</td>\n",
       "      <td>OTHERAPP</td>\n",
       "      <td>2016.7.13</td>\n",
       "      <td>iOS</td>\n",
       "    </tr>\n",
       "  </tbody>\n",
       "</table>\n",
       "</div>"
      ],
      "text/plain": [
       "     actiontype  ismydoc   ext                         sessionid  \\\n",
       "2450      CLOSE    False  XLSX  09aa9ed23214b104a85837a339a226ca   \n",
       "\n",
       "     documentposition   datetime flag  \n",
       "2450         OTHERAPP  2016.7.13  iOS  "
      ]
     },
     "execution_count": 22,
     "metadata": {},
     "output_type": "execute_result"
    }
   ],
   "source": [
    "# with pandas\n",
    "df.merge(ios, on=\"sessionid\", how=\"left\")\\\n",
    "  .query(\"flag =='iOS'\")\\\n",
    "  .drop('idx', axis=1)"
   ]
  },
  {
   "cell_type": "markdown",
   "metadata": {},
   "source": [
    "### Question 1\n",
    "- df 테이블의 Action Type 값(항목)별 유니크한 세션수는? \n",
    "- 유니크 세션수 기준으로 내림차순 정렬하기"
   ]
  },
  {
   "cell_type": "code",
   "execution_count": null,
   "metadata": {},
   "outputs": [],
   "source": []
  },
  {
   "cell_type": "code",
   "execution_count": null,
   "metadata": {},
   "outputs": [],
   "source": []
  },
  {
   "cell_type": "markdown",
   "metadata": {},
   "source": [
    "### Question 2   \n",
    "- ismydoc이 1(True)인 경우에 한해, 날짜별 세션수의 유니크 빈도 구하기\n",
    "- 유니크 빈도가 가장 큰 top 5 날짜 확인하기"
   ]
  },
  {
   "cell_type": "code",
   "execution_count": null,
   "metadata": {},
   "outputs": [],
   "source": []
  },
  {
   "cell_type": "code",
   "execution_count": null,
   "metadata": {},
   "outputs": [],
   "source": []
  },
  {
   "cell_type": "markdown",
   "metadata": {},
   "source": [
    "### Question 3\n",
    "- 문서 포지션별(documentposition)로 자주 OPEN 되는 확장자(ext)를 확인하기\n",
    "- 카운트 기준: unique sessionid\n",
    "- 그룹별, 세션카운트 기준 desc 정렬"
   ]
  },
  {
   "cell_type": "code",
   "execution_count": null,
   "metadata": {},
   "outputs": [],
   "source": []
  },
  {
   "cell_type": "code",
   "execution_count": null,
   "metadata": {},
   "outputs": [],
   "source": []
  },
  {
   "cell_type": "markdown",
   "metadata": {},
   "source": [
    "### 정답"
   ]
  },
  {
   "cell_type": "code",
   "execution_count": 23,
   "metadata": {},
   "outputs": [],
   "source": [
    "q = \"\"\"\n",
    "    SELECT actiontype,\n",
    "           count (distinct sessionid) as session_cnt_uniq\n",
    "      FROM df\n",
    "     GROUP BY actiontype\n",
    "     ORDER BY session_cnt_uniq DESC\n",
    "     \"\"\""
   ]
  },
  {
   "cell_type": "code",
   "execution_count": 24,
   "metadata": {},
   "outputs": [
    {
     "name": "stdout",
     "output_type": "stream",
     "text": [
      "    actiontype  session_cnt_uniq\n",
      "0         OPEN              1511\n",
      "1        CLOSE              1245\n",
      "2         SAVE               103\n",
      "3        RESET                88\n",
      "4       SAVEAS                58\n",
      "5       EXPORT                 1\n",
      "6  EXPORT_SAME                 1\n"
     ]
    }
   ],
   "source": [
    "print sqldf(q, locals()).to_string()"
   ]
  },
  {
   "cell_type": "code",
   "execution_count": 25,
   "metadata": {},
   "outputs": [
    {
     "data": {
      "text/html": [
       "<div>\n",
       "<style scoped>\n",
       "    .dataframe tbody tr th:only-of-type {\n",
       "        vertical-align: middle;\n",
       "    }\n",
       "\n",
       "    .dataframe tbody tr th {\n",
       "        vertical-align: top;\n",
       "    }\n",
       "\n",
       "    .dataframe thead th {\n",
       "        text-align: right;\n",
       "    }\n",
       "</style>\n",
       "<table border=\"1\" class=\"dataframe\">\n",
       "  <thead>\n",
       "    <tr style=\"text-align: right;\">\n",
       "      <th></th>\n",
       "      <th>actiontype</th>\n",
       "      <th>sessionid</th>\n",
       "    </tr>\n",
       "  </thead>\n",
       "  <tbody>\n",
       "    <tr>\n",
       "      <th>0</th>\n",
       "      <td>OPEN</td>\n",
       "      <td>1511</td>\n",
       "    </tr>\n",
       "    <tr>\n",
       "      <th>1</th>\n",
       "      <td>CLOSE</td>\n",
       "      <td>1245</td>\n",
       "    </tr>\n",
       "    <tr>\n",
       "      <th>2</th>\n",
       "      <td>SAVE</td>\n",
       "      <td>103</td>\n",
       "    </tr>\n",
       "    <tr>\n",
       "      <th>3</th>\n",
       "      <td>RESET</td>\n",
       "      <td>88</td>\n",
       "    </tr>\n",
       "    <tr>\n",
       "      <th>4</th>\n",
       "      <td>SAVEAS</td>\n",
       "      <td>58</td>\n",
       "    </tr>\n",
       "    <tr>\n",
       "      <th>5</th>\n",
       "      <td>EXPORT_SAME</td>\n",
       "      <td>1</td>\n",
       "    </tr>\n",
       "    <tr>\n",
       "      <th>6</th>\n",
       "      <td>EXPORT</td>\n",
       "      <td>1</td>\n",
       "    </tr>\n",
       "  </tbody>\n",
       "</table>\n",
       "</div>"
      ],
      "text/plain": [
       "    actiontype  sessionid\n",
       "0         OPEN       1511\n",
       "1        CLOSE       1245\n",
       "2         SAVE        103\n",
       "3        RESET         88\n",
       "4       SAVEAS         58\n",
       "5  EXPORT_SAME          1\n",
       "6       EXPORT          1"
      ]
     },
     "execution_count": 25,
     "metadata": {},
     "output_type": "execute_result"
    }
   ],
   "source": [
    "# with pandas\n",
    "df.groupby(\"actiontype\")['sessionid'].nunique().sort_values(ascending=False).reset_index()"
   ]
  },
  {
   "cell_type": "code",
   "execution_count": 26,
   "metadata": {},
   "outputs": [],
   "source": [
    "q = \"\"\"\n",
    "    SELECT datetime,\n",
    "           count (distinct sessionid) as session_cnt_uniq\n",
    "      FROM df\n",
    "     WHERE ismydoc = '1'\n",
    "     GROUP BY datetime\n",
    "     ORDER BY session_cnt_uniq DESC\n",
    "     LIMIT 5\n",
    "    \"\"\""
   ]
  },
  {
   "cell_type": "code",
   "execution_count": 27,
   "metadata": {},
   "outputs": [
    {
     "name": "stdout",
     "output_type": "stream",
     "text": [
      "    datetime  session_cnt_uniq\n",
      "0  2016.7.19                55\n",
      "1   2016.7.1                52\n",
      "2  2016.7.14                52\n",
      "3  2016.7.25                51\n",
      "4  2016.7.13                50\n"
     ]
    }
   ],
   "source": [
    "print sqldf(q, locals()).to_string()"
   ]
  },
  {
   "cell_type": "code",
   "execution_count": 28,
   "metadata": {},
   "outputs": [
    {
     "data": {
      "text/html": [
       "<div>\n",
       "<style scoped>\n",
       "    .dataframe tbody tr th:only-of-type {\n",
       "        vertical-align: middle;\n",
       "    }\n",
       "\n",
       "    .dataframe tbody tr th {\n",
       "        vertical-align: top;\n",
       "    }\n",
       "\n",
       "    .dataframe thead th {\n",
       "        text-align: right;\n",
       "    }\n",
       "</style>\n",
       "<table border=\"1\" class=\"dataframe\">\n",
       "  <thead>\n",
       "    <tr style=\"text-align: right;\">\n",
       "      <th></th>\n",
       "      <th>datetime</th>\n",
       "      <th>sessionid</th>\n",
       "    </tr>\n",
       "  </thead>\n",
       "  <tbody>\n",
       "    <tr>\n",
       "      <th>0</th>\n",
       "      <td>2016.7.19</td>\n",
       "      <td>55</td>\n",
       "    </tr>\n",
       "    <tr>\n",
       "      <th>1</th>\n",
       "      <td>2016.7.1</td>\n",
       "      <td>52</td>\n",
       "    </tr>\n",
       "    <tr>\n",
       "      <th>2</th>\n",
       "      <td>2016.7.14</td>\n",
       "      <td>52</td>\n",
       "    </tr>\n",
       "    <tr>\n",
       "      <th>3</th>\n",
       "      <td>2016.7.25</td>\n",
       "      <td>51</td>\n",
       "    </tr>\n",
       "    <tr>\n",
       "      <th>4</th>\n",
       "      <td>2016.7.13</td>\n",
       "      <td>50</td>\n",
       "    </tr>\n",
       "  </tbody>\n",
       "</table>\n",
       "</div>"
      ],
      "text/plain": [
       "    datetime  sessionid\n",
       "0  2016.7.19         55\n",
       "1   2016.7.1         52\n",
       "2  2016.7.14         52\n",
       "3  2016.7.25         51\n",
       "4  2016.7.13         50"
      ]
     },
     "execution_count": 28,
     "metadata": {},
     "output_type": "execute_result"
    }
   ],
   "source": [
    "# with pandas\n",
    "df.query(\"ismydoc == '1'\").groupby(\"datetime\")['sessionid'].nunique().sort_values(ascending=False).head(5).reset_index()"
   ]
  },
  {
   "cell_type": "code",
   "execution_count": 29,
   "metadata": {},
   "outputs": [
    {
     "data": {
      "text/html": [
       "<div>\n",
       "<style scoped>\n",
       "    .dataframe tbody tr th:only-of-type {\n",
       "        vertical-align: middle;\n",
       "    }\n",
       "\n",
       "    .dataframe tbody tr th {\n",
       "        vertical-align: top;\n",
       "    }\n",
       "\n",
       "    .dataframe thead th {\n",
       "        text-align: right;\n",
       "    }\n",
       "</style>\n",
       "<table border=\"1\" class=\"dataframe\">\n",
       "  <thead>\n",
       "    <tr style=\"text-align: right;\">\n",
       "      <th></th>\n",
       "      <th>actiontype</th>\n",
       "      <th>ismydoc</th>\n",
       "      <th>ext</th>\n",
       "      <th>sessionid</th>\n",
       "      <th>documentposition</th>\n",
       "      <th>datetime</th>\n",
       "    </tr>\n",
       "  </thead>\n",
       "  <tbody>\n",
       "    <tr>\n",
       "      <th>182499</th>\n",
       "      <td>SAVEAS</td>\n",
       "      <td>False</td>\n",
       "      <td>PDF</td>\n",
       "      <td>316df629ed386a15ed38e43b068c1307</td>\n",
       "      <td>MYPOLARISDRIVE</td>\n",
       "      <td>2016.7.13</td>\n",
       "    </tr>\n",
       "    <tr>\n",
       "      <th>164444</th>\n",
       "      <td>CLOSE</td>\n",
       "      <td>False</td>\n",
       "      <td>XLS</td>\n",
       "      <td>bb20d603f5fe6aa772b714d1aaf9d569</td>\n",
       "      <td>OTHERAPP</td>\n",
       "      <td>2016.7.8</td>\n",
       "    </tr>\n",
       "    <tr>\n",
       "      <th>86459</th>\n",
       "      <td>OPEN</td>\n",
       "      <td>True</td>\n",
       "      <td>XLS</td>\n",
       "      <td>0c403ea1f3d55f4b78b9ebd9a3260a44</td>\n",
       "      <td>MYPOLARISDRIVE</td>\n",
       "      <td>2016.7.1</td>\n",
       "    </tr>\n",
       "    <tr>\n",
       "      <th>176710</th>\n",
       "      <td>CLOSE</td>\n",
       "      <td>False</td>\n",
       "      <td>PPT</td>\n",
       "      <td>9a91fef5d688b553b11d6949f380a596</td>\n",
       "      <td>OTHERAPP</td>\n",
       "      <td>2016.7.3</td>\n",
       "    </tr>\n",
       "    <tr>\n",
       "      <th>293665</th>\n",
       "      <td>CLOSE</td>\n",
       "      <td>False</td>\n",
       "      <td>PDF</td>\n",
       "      <td>80738dfb91b164c3a33267fb1b50120d</td>\n",
       "      <td>OTHERAPP</td>\n",
       "      <td>2016.7.21</td>\n",
       "    </tr>\n",
       "  </tbody>\n",
       "</table>\n",
       "</div>"
      ],
      "text/plain": [
       "       actiontype  ismydoc  ext                         sessionid  \\\n",
       "182499     SAVEAS    False  PDF  316df629ed386a15ed38e43b068c1307   \n",
       "164444      CLOSE    False  XLS  bb20d603f5fe6aa772b714d1aaf9d569   \n",
       "86459        OPEN     True  XLS  0c403ea1f3d55f4b78b9ebd9a3260a44   \n",
       "176710      CLOSE    False  PPT  9a91fef5d688b553b11d6949f380a596   \n",
       "293665      CLOSE    False  PDF  80738dfb91b164c3a33267fb1b50120d   \n",
       "\n",
       "       documentposition   datetime  \n",
       "182499   MYPOLARISDRIVE  2016.7.13  \n",
       "164444         OTHERAPP   2016.7.8  \n",
       "86459    MYPOLARISDRIVE   2016.7.1  \n",
       "176710         OTHERAPP   2016.7.3  \n",
       "293665         OTHERAPP  2016.7.21  "
      ]
     },
     "execution_count": 29,
     "metadata": {},
     "output_type": "execute_result"
    }
   ],
   "source": [
    "df.head()"
   ]
  },
  {
   "cell_type": "code",
   "execution_count": 30,
   "metadata": {},
   "outputs": [],
   "source": [
    "q = \"\"\"\n",
    "    SELECT documentposition,\n",
    "           ext,\n",
    "           COUNT (DISTINCT sessionid) as session_cnt_uniq\n",
    "      FROM df\n",
    "     WHERE actiontype = 'OPEN' \n",
    "     GROUP BY documentposition, ext\n",
    "     ORDER BY documentposition, session_cnt_uniq DESC\n",
    "     \"\"\""
   ]
  },
  {
   "cell_type": "code",
   "execution_count": 31,
   "metadata": {},
   "outputs": [
    {
     "name": "stdout",
     "output_type": "stream",
     "text": [
      "   documentposition   ext  session_cnt_uniq\n",
      "0      LOCALSTORAGE  XLSX                19\n",
      "1      LOCALSTORAGE  DOCX                13\n",
      "2      LOCALSTORAGE   HWP                12\n",
      "3      LOCALSTORAGE   XLS                11\n",
      "4      LOCALSTORAGE   PDF                 9\n",
      "5      LOCALSTORAGE   TXT                 7\n",
      "6      LOCALSTORAGE  PPTX                 6\n",
      "7      LOCALSTORAGE   DOC                 4\n",
      "8      LOCALSTORAGE   PPT                 3\n",
      "9      LOCALSTORAGE   PPS                 1\n",
      "10   MYPOLARISDRIVE   PDF                62\n",
      "11   MYPOLARISDRIVE  XLSX                55\n",
      "12   MYPOLARISDRIVE  DOCX                52\n",
      "13   MYPOLARISDRIVE   HWP                22\n",
      "14   MYPOLARISDRIVE  PPSX                17\n",
      "15   MYPOLARISDRIVE   TXT                16\n",
      "16   MYPOLARISDRIVE   XLS                16\n",
      "17   MYPOLARISDRIVE   DOC                12\n",
      "18   MYPOLARISDRIVE  PPTX                10\n",
      "19   MYPOLARISDRIVE   PPT                 8\n",
      "20      NEWDOCUMENT  DOCX                21\n",
      "21      NEWDOCUMENT  XLSX                 8\n",
      "22      NEWDOCUMENT   HWP                 7\n",
      "23      NEWDOCUMENT  PPTX                 6\n",
      "24         OTHERAPP   PDF               371\n",
      "25         OTHERAPP  DOCX               190\n",
      "26         OTHERAPP  XLSX               167\n",
      "27         OTHERAPP   DOC                95\n",
      "28         OTHERAPP   HWP                89\n",
      "29         OTHERAPP   XLS                87\n",
      "30         OTHERAPP  PPTX                58\n",
      "31         OTHERAPP   TXT                31\n",
      "32         OTHERAPP   PPT                20\n",
      "33         OTHERAPP   ODT                 2\n",
      "34         OTHERAPP   PPS                 1\n",
      "35         OTHERAPP  PPSX                 1\n",
      "36       OTHERCLOUD  XLSX                 4\n",
      "37       OTHERCLOUD  DOCX                 1\n",
      "38       OTHERCLOUD   PDF                 1\n",
      "39       OTHERCLOUD   XLS                 1\n"
     ]
    }
   ],
   "source": [
    "print sqldf(q, locals()).to_string()"
   ]
  },
  {
   "cell_type": "code",
   "execution_count": 32,
   "metadata": {},
   "outputs": [
    {
     "data": {
      "text/html": [
       "<div>\n",
       "<style scoped>\n",
       "    .dataframe tbody tr th:only-of-type {\n",
       "        vertical-align: middle;\n",
       "    }\n",
       "\n",
       "    .dataframe tbody tr th {\n",
       "        vertical-align: top;\n",
       "    }\n",
       "\n",
       "    .dataframe thead th {\n",
       "        text-align: right;\n",
       "    }\n",
       "</style>\n",
       "<table border=\"1\" class=\"dataframe\">\n",
       "  <thead>\n",
       "    <tr style=\"text-align: right;\">\n",
       "      <th>ext</th>\n",
       "      <th>DOC</th>\n",
       "      <th>DOCX</th>\n",
       "      <th>HWP</th>\n",
       "      <th>ODT</th>\n",
       "      <th>PDF</th>\n",
       "      <th>PPS</th>\n",
       "      <th>PPSX</th>\n",
       "      <th>PPT</th>\n",
       "      <th>PPTX</th>\n",
       "      <th>TXT</th>\n",
       "      <th>XLS</th>\n",
       "      <th>XLSX</th>\n",
       "    </tr>\n",
       "    <tr>\n",
       "      <th>documentposition</th>\n",
       "      <th></th>\n",
       "      <th></th>\n",
       "      <th></th>\n",
       "      <th></th>\n",
       "      <th></th>\n",
       "      <th></th>\n",
       "      <th></th>\n",
       "      <th></th>\n",
       "      <th></th>\n",
       "      <th></th>\n",
       "      <th></th>\n",
       "      <th></th>\n",
       "    </tr>\n",
       "  </thead>\n",
       "  <tbody>\n",
       "    <tr>\n",
       "      <th>LOCALSTORAGE</th>\n",
       "      <td>4.0</td>\n",
       "      <td>13.0</td>\n",
       "      <td>12.0</td>\n",
       "      <td>0.0</td>\n",
       "      <td>9.0</td>\n",
       "      <td>1.0</td>\n",
       "      <td>0.0</td>\n",
       "      <td>3.0</td>\n",
       "      <td>6.0</td>\n",
       "      <td>7.0</td>\n",
       "      <td>11.0</td>\n",
       "      <td>19.0</td>\n",
       "    </tr>\n",
       "    <tr>\n",
       "      <th>MYPOLARISDRIVE</th>\n",
       "      <td>12.0</td>\n",
       "      <td>52.0</td>\n",
       "      <td>22.0</td>\n",
       "      <td>0.0</td>\n",
       "      <td>62.0</td>\n",
       "      <td>0.0</td>\n",
       "      <td>17.0</td>\n",
       "      <td>8.0</td>\n",
       "      <td>10.0</td>\n",
       "      <td>16.0</td>\n",
       "      <td>16.0</td>\n",
       "      <td>55.0</td>\n",
       "    </tr>\n",
       "    <tr>\n",
       "      <th>NEWDOCUMENT</th>\n",
       "      <td>0.0</td>\n",
       "      <td>21.0</td>\n",
       "      <td>7.0</td>\n",
       "      <td>0.0</td>\n",
       "      <td>0.0</td>\n",
       "      <td>0.0</td>\n",
       "      <td>0.0</td>\n",
       "      <td>0.0</td>\n",
       "      <td>6.0</td>\n",
       "      <td>0.0</td>\n",
       "      <td>0.0</td>\n",
       "      <td>8.0</td>\n",
       "    </tr>\n",
       "    <tr>\n",
       "      <th>OTHERAPP</th>\n",
       "      <td>95.0</td>\n",
       "      <td>190.0</td>\n",
       "      <td>89.0</td>\n",
       "      <td>2.0</td>\n",
       "      <td>372.0</td>\n",
       "      <td>1.0</td>\n",
       "      <td>1.0</td>\n",
       "      <td>20.0</td>\n",
       "      <td>58.0</td>\n",
       "      <td>31.0</td>\n",
       "      <td>87.0</td>\n",
       "      <td>167.0</td>\n",
       "    </tr>\n",
       "    <tr>\n",
       "      <th>OTHERCLOUD</th>\n",
       "      <td>0.0</td>\n",
       "      <td>1.0</td>\n",
       "      <td>0.0</td>\n",
       "      <td>0.0</td>\n",
       "      <td>1.0</td>\n",
       "      <td>0.0</td>\n",
       "      <td>0.0</td>\n",
       "      <td>0.0</td>\n",
       "      <td>0.0</td>\n",
       "      <td>0.0</td>\n",
       "      <td>1.0</td>\n",
       "      <td>4.0</td>\n",
       "    </tr>\n",
       "  </tbody>\n",
       "</table>\n",
       "</div>"
      ],
      "text/plain": [
       "ext                DOC   DOCX   HWP  ODT    PDF  PPS  PPSX   PPT  PPTX   TXT  \\\n",
       "documentposition                                                               \n",
       "LOCALSTORAGE       4.0   13.0  12.0  0.0    9.0  1.0   0.0   3.0   6.0   7.0   \n",
       "MYPOLARISDRIVE    12.0   52.0  22.0  0.0   62.0  0.0  17.0   8.0  10.0  16.0   \n",
       "NEWDOCUMENT        0.0   21.0   7.0  0.0    0.0  0.0   0.0   0.0   6.0   0.0   \n",
       "OTHERAPP          95.0  190.0  89.0  2.0  372.0  1.0   1.0  20.0  58.0  31.0   \n",
       "OTHERCLOUD         0.0    1.0   0.0  0.0    1.0  0.0   0.0   0.0   0.0   0.0   \n",
       "\n",
       "ext                XLS   XLSX  \n",
       "documentposition               \n",
       "LOCALSTORAGE      11.0   19.0  \n",
       "MYPOLARISDRIVE    16.0   55.0  \n",
       "NEWDOCUMENT        0.0    8.0  \n",
       "OTHERAPP          87.0  167.0  \n",
       "OTHERCLOUD         1.0    4.0  "
      ]
     },
     "execution_count": 32,
     "metadata": {},
     "output_type": "execute_result"
    }
   ],
   "source": [
    "# with pandas\n",
    "df.query(\"actiontype == 'OPEN'\").groupby(['documentposition', 'ext'])['sessionid'].count().unstack().fillna(0)"
   ]
  },
  {
   "cell_type": "code",
   "execution_count": null,
   "metadata": {},
   "outputs": [],
   "source": []
  }
 ],
 "metadata": {
  "kernelspec": {
   "display_name": "Python 3",
   "language": "python",
   "name": "python3"
  },
  "language_info": {
   "codemirror_mode": {
    "name": "ipython",
    "version": 3
   },
   "file_extension": ".py",
   "mimetype": "text/x-python",
   "name": "python",
   "nbconvert_exporter": "python",
   "pygments_lexer": "ipython3",
   "version": "3.6.8"
  }
 },
 "nbformat": 4,
 "nbformat_minor": 2
}
