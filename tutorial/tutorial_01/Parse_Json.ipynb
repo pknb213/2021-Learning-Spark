{
 "cells": [
  {
   "cell_type": "markdown",
   "metadata": {},
   "source": [
    "## Json Parsing"
   ]
  },
  {
   "cell_type": "code",
   "execution_count": 2,
   "metadata": {},
   "outputs": [],
   "source": [
    "import json\n",
    "import pandas as pd\n",
    "\n",
    "data= []\n",
    "mydf = pd.DataFrame()\n",
    "\n",
    "# to parse json files\n",
    "with open('/Users/woowahan/Documents/Python/DS_Ext_School/tutorial_01/ds_tutorial_json.json') as f:\n",
    "    for line in f:\n",
    "        data.append(json.loads(line))\n",
    "        \n",
    "    # convert json to df\n",
    "    for i in range(0, len(data)):\n",
    "        df = pd.DataFrame.from_dict([data[i]])\n",
    "        mydf = mydf.append(df)\n",
    "        \n",
    "# reset index\n",
    "mydf.reset_index(drop=True, inplace=True)"
   ]
  },
  {
   "cell_type": "code",
   "execution_count": 3,
   "metadata": {},
   "outputs": [
    {
     "data": {
      "text/html": [
       "<div>\n",
       "<style scoped>\n",
       "    .dataframe tbody tr th:only-of-type {\n",
       "        vertical-align: middle;\n",
       "    }\n",
       "\n",
       "    .dataframe tbody tr th {\n",
       "        vertical-align: top;\n",
       "    }\n",
       "\n",
       "    .dataframe thead th {\n",
       "        text-align: right;\n",
       "    }\n",
       "</style>\n",
       "<table border=\"1\" class=\"dataframe\">\n",
       "  <thead>\n",
       "    <tr style=\"text-align: right;\">\n",
       "      <th></th>\n",
       "      <th>area</th>\n",
       "      <th>date</th>\n",
       "      <th>event</th>\n",
       "      <th>group</th>\n",
       "      <th>memno</th>\n",
       "      <th>screen</th>\n",
       "      <th>ver</th>\n",
       "    </tr>\n",
       "  </thead>\n",
       "  <tbody>\n",
       "    <tr>\n",
       "      <th>0</th>\n",
       "      <td>seoul</td>\n",
       "      <td>1511947418</td>\n",
       "      <td>view</td>\n",
       "      <td>a</td>\n",
       "      <td>1101</td>\n",
       "      <td>intro</td>\n",
       "      <td>0.1</td>\n",
       "    </tr>\n",
       "    <tr>\n",
       "      <th>1</th>\n",
       "      <td>taegu</td>\n",
       "      <td>1511947418</td>\n",
       "      <td>view</td>\n",
       "      <td>a</td>\n",
       "      <td>1101</td>\n",
       "      <td>intro</td>\n",
       "      <td>0.2</td>\n",
       "    </tr>\n",
       "    <tr>\n",
       "      <th>2</th>\n",
       "      <td>gyenggi</td>\n",
       "      <td>1511947418</td>\n",
       "      <td>view</td>\n",
       "      <td>b</td>\n",
       "      <td>1102</td>\n",
       "      <td>detail</td>\n",
       "      <td>0.2</td>\n",
       "    </tr>\n",
       "    <tr>\n",
       "      <th>3</th>\n",
       "      <td>seoul</td>\n",
       "      <td>1511947418</td>\n",
       "      <td>clk</td>\n",
       "      <td>b</td>\n",
       "      <td>1102</td>\n",
       "      <td>detail</td>\n",
       "      <td>0.2</td>\n",
       "    </tr>\n",
       "    <tr>\n",
       "      <th>4</th>\n",
       "      <td>seoul</td>\n",
       "      <td>1511947418</td>\n",
       "      <td>clk</td>\n",
       "      <td>c</td>\n",
       "      <td>1102</td>\n",
       "      <td>main</td>\n",
       "      <td>0.2</td>\n",
       "    </tr>\n",
       "  </tbody>\n",
       "</table>\n",
       "</div>"
      ],
      "text/plain": [
       "      area        date event group memno  screen  ver\n",
       "0    seoul  1511947418  view     a  1101   intro  0.1\n",
       "1    taegu  1511947418  view     a  1101   intro  0.2\n",
       "2  gyenggi  1511947418  view     b  1102  detail  0.2\n",
       "3    seoul  1511947418   clk     b  1102  detail  0.2\n",
       "4    seoul  1511947418   clk     c  1102    main  0.2"
      ]
     },
     "execution_count": 3,
     "metadata": {},
     "output_type": "execute_result"
    }
   ],
   "source": [
    "mydf.head()"
   ]
  },
  {
   "cell_type": "code",
   "execution_count": 4,
   "metadata": {},
   "outputs": [
    {
     "name": "stdout",
     "output_type": "stream",
     "text": [
      "<class 'pandas.core.frame.DataFrame'>\n",
      "RangeIndex: 120 entries, 0 to 119\n",
      "Data columns (total 7 columns):\n",
      "area      120 non-null object\n",
      "date      120 non-null object\n",
      "event     120 non-null object\n",
      "group     120 non-null object\n",
      "memno     120 non-null object\n",
      "screen    120 non-null object\n",
      "ver       120 non-null object\n",
      "dtypes: object(7)\n",
      "memory usage: 6.6+ KB\n"
     ]
    }
   ],
   "source": [
    "mydf.info()"
   ]
  },
  {
   "cell_type": "code",
   "execution_count": 5,
   "metadata": {},
   "outputs": [],
   "source": [
    "mydf['date'] = pd.to_datetime(mydf['date'], unit='s').dt.date\n",
    "mydf['date'] = mydf['date'].astype('datetime64[ns]')"
   ]
  },
  {
   "cell_type": "code",
   "execution_count": 6,
   "metadata": {},
   "outputs": [
    {
     "data": {
      "text/html": [
       "<div>\n",
       "<style scoped>\n",
       "    .dataframe tbody tr th:only-of-type {\n",
       "        vertical-align: middle;\n",
       "    }\n",
       "\n",
       "    .dataframe tbody tr th {\n",
       "        vertical-align: top;\n",
       "    }\n",
       "\n",
       "    .dataframe thead th {\n",
       "        text-align: right;\n",
       "    }\n",
       "</style>\n",
       "<table border=\"1\" class=\"dataframe\">\n",
       "  <thead>\n",
       "    <tr style=\"text-align: right;\">\n",
       "      <th></th>\n",
       "      <th>area</th>\n",
       "      <th>date</th>\n",
       "      <th>event</th>\n",
       "      <th>group</th>\n",
       "      <th>memno</th>\n",
       "      <th>screen</th>\n",
       "      <th>ver</th>\n",
       "    </tr>\n",
       "  </thead>\n",
       "  <tbody>\n",
       "    <tr>\n",
       "      <th>0</th>\n",
       "      <td>seoul</td>\n",
       "      <td>2017-11-29</td>\n",
       "      <td>view</td>\n",
       "      <td>a</td>\n",
       "      <td>1101</td>\n",
       "      <td>intro</td>\n",
       "      <td>0.1</td>\n",
       "    </tr>\n",
       "    <tr>\n",
       "      <th>1</th>\n",
       "      <td>taegu</td>\n",
       "      <td>2017-11-29</td>\n",
       "      <td>view</td>\n",
       "      <td>a</td>\n",
       "      <td>1101</td>\n",
       "      <td>intro</td>\n",
       "      <td>0.2</td>\n",
       "    </tr>\n",
       "    <tr>\n",
       "      <th>2</th>\n",
       "      <td>gyenggi</td>\n",
       "      <td>2017-11-29</td>\n",
       "      <td>view</td>\n",
       "      <td>b</td>\n",
       "      <td>1102</td>\n",
       "      <td>detail</td>\n",
       "      <td>0.2</td>\n",
       "    </tr>\n",
       "    <tr>\n",
       "      <th>3</th>\n",
       "      <td>seoul</td>\n",
       "      <td>2017-11-29</td>\n",
       "      <td>clk</td>\n",
       "      <td>b</td>\n",
       "      <td>1102</td>\n",
       "      <td>detail</td>\n",
       "      <td>0.2</td>\n",
       "    </tr>\n",
       "    <tr>\n",
       "      <th>4</th>\n",
       "      <td>seoul</td>\n",
       "      <td>2017-11-29</td>\n",
       "      <td>clk</td>\n",
       "      <td>c</td>\n",
       "      <td>1102</td>\n",
       "      <td>main</td>\n",
       "      <td>0.2</td>\n",
       "    </tr>\n",
       "  </tbody>\n",
       "</table>\n",
       "</div>"
      ],
      "text/plain": [
       "      area       date event group memno  screen  ver\n",
       "0    seoul 2017-11-29  view     a  1101   intro  0.1\n",
       "1    taegu 2017-11-29  view     a  1101   intro  0.2\n",
       "2  gyenggi 2017-11-29  view     b  1102  detail  0.2\n",
       "3    seoul 2017-11-29   clk     b  1102  detail  0.2\n",
       "4    seoul 2017-11-29   clk     c  1102    main  0.2"
      ]
     },
     "execution_count": 6,
     "metadata": {},
     "output_type": "execute_result"
    }
   ],
   "source": [
    "mydf.head()"
   ]
  },
  {
   "cell_type": "code",
   "execution_count": 7,
   "metadata": {},
   "outputs": [
    {
     "name": "stdout",
     "output_type": "stream",
     "text": [
      "<class 'pandas.core.frame.DataFrame'>\n",
      "RangeIndex: 120 entries, 0 to 119\n",
      "Data columns (total 7 columns):\n",
      "area      120 non-null object\n",
      "date      120 non-null datetime64[ns]\n",
      "event     120 non-null object\n",
      "group     120 non-null object\n",
      "memno     120 non-null object\n",
      "screen    120 non-null object\n",
      "ver       120 non-null object\n",
      "dtypes: datetime64[ns](1), object(6)\n",
      "memory usage: 6.6+ KB\n"
     ]
    }
   ],
   "source": [
    "mydf.info()"
   ]
  }
 ],
 "metadata": {
  "kernelspec": {
   "display_name": "Python 3",
   "language": "python",
   "name": "python3"
  },
  "language_info": {
   "codemirror_mode": {
    "name": "ipython",
    "version": 3
   },
   "file_extension": ".py",
   "mimetype": "text/x-python",
   "name": "python",
   "nbconvert_exporter": "python",
   "pygments_lexer": "ipython3",
   "version": "3.6.8"
  }
 },
 "nbformat": 4,
 "nbformat_minor": 2
}
